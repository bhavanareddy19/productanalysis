{
 "cells": [
  {
   "cell_type": "code",
   "execution_count": 15,
   "metadata": {},
   "outputs": [
    {
     "name": "stdout",
     "output_type": "stream",
     "text": [
      "  Portfolio Geography   Category            Brand     Segment  Initial Sales  \\\n",
      "0      ACME    Africa       Hair          Balmain     Mascara         523959   \n",
      "1      ACME    Europe   Skincare          Balmain     Mascara         222996   \n",
      "2      ACME    Europe  Fragrance          Balmain   Fragrance         909105   \n",
      "3      ACME    Africa   Skincare  Elizabeth Arden  Face Cream         509479   \n",
      "4      ACME    Africa       Hair          Balmain       Toner         421998   \n",
      "\n",
      "   Margin  Min Trend  Max Trend  Min Contribution  Max Contribution  \n",
      "0      46  -0.034794   0.069161          0.080064          0.183903  \n",
      "1      43  -0.086534   0.050746          0.015074          0.179639  \n",
      "2      43  -0.048138   0.151681          0.057256          0.476258  \n",
      "3      12  -0.023193   0.132486          0.017504          0.404617  \n",
      "4      26  -0.083570   0.099644          0.085356          0.378492  \n"
     ]
    }
   ],
   "source": [
    "import pandas as pd\n",
    "import numpy as np\n",
    "\n",
    "# Helper function to generate random data\n",
    "def generate_random_data(n):\n",
    "    geographies = ['North America', 'Europe', 'Asia', 'South America', 'Africa']\n",
    "    categories = ['Hair', 'Fragrance', 'Makeup', 'Skincare', 'Tools']\n",
    "    brands = ['Aveda', 'Bobbi Brown', 'Balmain', 'Elizabeth Arden', 'Frederic Malle']\n",
    "    segments = ['Lipstick', 'Mascara', 'Toner', 'Bronzer', 'Hair Dye', 'Fragrance', 'Face Cream', 'Eye Liner', 'Foundation']\n",
    "\n",
    "    data = {\n",
    "        'Portfolio': ['ACME'] * n,\n",
    "        'Geography': np.random.choice(geographies, n),\n",
    "        'Category': np.random.choice(categories, n),\n",
    "        'Brand': np.random.choice(brands, n),\n",
    "        'Segment': np.random.choice(segments, n),\n",
    "        'Initial Sales': np.random.randint(10000, 1000000, n),\n",
    "        'Margin': np.random.randint(10, 50, n),  # as percentage\n",
    "        'Min Trend': np.random.uniform(-0.10, 0.00, n),  # minimum acceptable growth trend\n",
    "        'Max Trend': np.random.uniform(0.05, 0.20, n),  # maximum acceptable growth trend\n",
    "        'Min Contribution': np.random.uniform(0.01, 0.10, n),\n",
    "        'Max Contribution': np.random.uniform(0.10, 0.50, n)\n",
    "    }\n",
    "    return pd.DataFrame(data)\n",
    "\n",
    "df = generate_random_data(500)\n",
    "\n",
    "# Display the first few rows of the dataset\n",
    "print(df.head())\n"
   ]
  },
  {
   "cell_type": "code",
   "execution_count": 16,
   "metadata": {},
   "outputs": [
    {
     "data": {
      "text/plain": [
       "'Acme_Synthetic_Data.csv'"
      ]
     },
     "execution_count": 16,
     "metadata": {},
     "output_type": "execute_result"
    }
   ],
   "source": [
    "file_path = 'Acme_Synthetic_Data.csv'\n",
    "df.to_csv(file_path, index=False)\n",
    "file_path\n"
   ]
  },
  {
   "cell_type": "code",
   "execution_count": null,
   "metadata": {},
   "outputs": [
    {
     "name": "stdout",
     "output_type": "stream",
     "text": [
      "Detailed Results for Each Segment:\n",
      "    Portfolio      Geography   Category            Brand     Segment  \\\n",
      "0        ACME         Africa       Hair          Balmain     Mascara   \n",
      "1        ACME         Europe   Skincare          Balmain     Mascara   \n",
      "2        ACME         Europe  Fragrance          Balmain   Fragrance   \n",
      "3        ACME         Africa   Skincare  Elizabeth Arden  Face Cream   \n",
      "4        ACME         Africa       Hair          Balmain       Toner   \n",
      "..        ...            ...        ...              ...         ...   \n",
      "495      ACME  South America      Tools      Bobbi Brown    Hair Dye   \n",
      "496      ACME  North America     Makeup      Bobbi Brown     Mascara   \n",
      "497      ACME         Europe     Makeup            Aveda     Bronzer   \n",
      "498      ACME  South America     Makeup            Aveda    Lipstick   \n",
      "499      ACME         Africa  Fragrance   Frederic Malle  Face Cream   \n",
      "\n",
      "     Initial Sales  Adjusted Sales  Sales Increase  Margin  New Margin Amount  \n",
      "0           523959    5.601967e+05    36237.745596      46      257690.502974  \n",
      "1           222996    2.343121e+05    11316.126651      43      100754.214460  \n",
      "2           909105    1.046999e+06   137893.926478      43      450209.538385  \n",
      "3           509479    5.769780e+05    67498.966275      12       69237.355953  \n",
      "4           421998    4.640478e+05    42049.752557      26      120652.415665  \n",
      "..             ...             ...             ...     ...                ...  \n",
      "495          35968    3.947413e+04     3506.132676      23        9079.050515  \n",
      "496         933889    1.070294e+06   136405.317382      43      460226.556474  \n",
      "497         214830    2.396412e+05    24811.185960      20       47928.237192  \n",
      "498         919116    9.778137e+05    58697.656825      22      215119.004501  \n",
      "499         649679    7.714240e+05   121745.017860      42      323998.087501  \n",
      "\n",
      "[500 rows x 10 columns]\n",
      "\n",
      "Total Potential Sales Increase Across All Segments: $31202505.75\n",
      "Target is achievable.\n"
     ]
    }
   ],
   "source": [
    "def maximize_sales(df):\n",
    "    df['Potential Sales'] = df['Initial Sales'] * (1 + df['Max Trend'])\n",
    "    \n",
    "    df['Max Possible Sales'] = df['Initial Sales'] * (1 + df['Max Contribution'])\n",
    "    df['Adjusted Sales'] = np.minimum(df['Potential Sales'], df['Max Possible Sales'])\n",
    "    \n",
    "    df['Sales Increase'] = df['Adjusted Sales'] - df['Initial Sales']\n",
    "    \n",
    "    df['New Margin Amount'] = df['Adjusted Sales'] * (df['Margin'] / 100)\n",
    "\n",
    "    total_sales_increase = df['Sales Increase'].sum()\n",
    "\n",
    "    return df, total_sales_increase\n",
    "\n",
    "results_df, total_increase = maximize_sales(df)\n",
    "\n",
    "print(\"Detailed Results for Each Segment:\")\n",
    "print(results_df[['Portfolio', 'Geography', 'Category', 'Brand', 'Segment', 'Initial Sales', 'Adjusted Sales', 'Sales Increase', 'Margin', 'New Margin Amount']])\n",
    "print(\"\\nTotal Potential Sales Increase Across All Segments: ${:.2f}\".format(total_increase))\n",
    "\n",
    "target_increase = 1000000  # $100M\n",
    "if total_increase >= target_increase:\n",
    "    print(\"Target is achievable.\")\n",
    "else:\n",
    "    print(\"Target is not achievable. Maximum possible increase is ${:.2f}.\".format(total_increase))"
   ]
  },
  {
   "cell_type": "code",
   "execution_count": 26,
   "metadata": {},
   "outputs": [
    {
     "name": "stdout",
     "output_type": "stream",
     "text": [
      "Detailed Results for Each Segment to Maximize Margins:\n",
      "    Portfolio      Geography   Category            Brand     Segment  \\\n",
      "0        ACME         Africa       Hair          Balmain     Mascara   \n",
      "1        ACME         Europe   Skincare          Balmain     Mascara   \n",
      "2        ACME         Europe  Fragrance          Balmain   Fragrance   \n",
      "3        ACME         Africa   Skincare  Elizabeth Arden  Face Cream   \n",
      "4        ACME         Africa       Hair          Balmain       Toner   \n",
      "..        ...            ...        ...              ...         ...   \n",
      "495      ACME  South America      Tools      Bobbi Brown    Hair Dye   \n",
      "496      ACME  North America     Makeup      Bobbi Brown     Mascara   \n",
      "497      ACME         Europe     Makeup            Aveda     Bronzer   \n",
      "498      ACME  South America     Makeup            Aveda    Lipstick   \n",
      "499      ACME         Africa  Fragrance   Frederic Malle  Face Cream   \n",
      "\n",
      "     Initial Sales  Adjusted Sales  Margin  Potential Margin Amount  \n",
      "0           523959    5.601967e+05      46            257690.502974  \n",
      "1           222996    2.343121e+05      43            100754.214460  \n",
      "2           909105    1.046999e+06      43            450209.538385  \n",
      "3           509479    5.769780e+05      12             69237.355953  \n",
      "4           421998    4.640478e+05      26            120652.415665  \n",
      "..             ...             ...     ...                      ...  \n",
      "495          35968    3.947413e+04      23              9079.050515  \n",
      "496         933889    1.070294e+06      43            460226.556474  \n",
      "497         214830    2.396412e+05      20             47928.237192  \n",
      "498         919116    9.778137e+05      22            215119.004501  \n",
      "499         649679    7.714240e+05      42            323998.087501  \n",
      "\n",
      "[500 rows x 9 columns]\n",
      "\n",
      " Target margin of 30.0% is achievable. Projected margin percentage is 34.21%.\n"
     ]
    }
   ],
   "source": [
    "def maximize_margin_and_check_target(df):\n",
    "    try:\n",
    "        # Get user input for target margin percentage\n",
    "        target_margin_percentage = float(input(\"Please enter the target margin percentage: \"))\n",
    "        \n",
    "        # Process the DataFrame to calculate potential sales and margins\n",
    "        df['Potential Sales'] = df['Initial Sales'] * (1 + df['Max Trend'])\n",
    "        df['Max Possible Sales'] = df['Initial Sales'] * (1 + df['Max Contribution'])\n",
    "        df['Adjusted Sales'] = np.minimum(df['Potential Sales'], df['Max Possible Sales'])\n",
    "        df['Potential Margin Amount'] = df['Adjusted Sales'] * (df['Margin'] / 100)\n",
    "        \n",
    "        # Calculate total potential margin and initial sales\n",
    "        total_potential_margin = df['Potential Margin Amount'].sum()\n",
    "        total_initial_sales = df['Initial Sales'].sum()\n",
    "        \n",
    "        # Calculate margin percentage of the initial sales\n",
    "        margin_percentage = (total_potential_margin / total_initial_sales) * 100\n",
    "        \n",
    "        # Compare the calculated margin percentage with the target\n",
    "        if margin_percentage >= target_margin_percentage:\n",
    "            result = f\"Target margin of {target_margin_percentage}% is achievable. Projected margin percentage is {margin_percentage:.2f}%.\"\n",
    "        else:\n",
    "            result = f\"Target margin of {target_margin_percentage}% is not achievable. Maximum possible margin percentage is {margin_percentage:.2f}%.\"\n",
    "        \n",
    "        return df, result\n",
    "    except ValueError:\n",
    "        return None, \"Invalid input. Please ensure you enter a numeric value for the margin percentage.\"\n",
    "\n",
    "# Run the function and display the results\n",
    "optimized_margin_df, result = maximize_margin_and_check_target(df)\n",
    "if optimized_margin_df is not None:\n",
    "    print(\"Detailed Results for Each Segment to Maximize Margins:\")\n",
    "    print(optimized_margin_df[['Portfolio', 'Geography', 'Category', 'Brand', 'Segment', 'Initial Sales', 'Adjusted Sales', 'Margin', 'Potential Margin Amount']])\n",
    "    print(\"\\n\", result)\n",
    "else:\n",
    "    print(result)"
   ]
  },
  {
   "cell_type": "code",
   "execution_count": null,
   "metadata": {},
   "outputs": [],
   "source": []
  }
 ],
 "metadata": {
  "kernelspec": {
   "display_name": "base",
   "language": "python",
   "name": "python3"
  },
  "language_info": {
   "codemirror_mode": {
    "name": "ipython",
    "version": 3
   },
   "file_extension": ".py",
   "mimetype": "text/x-python",
   "name": "python",
   "nbconvert_exporter": "python",
   "pygments_lexer": "ipython3",
   "version": "3.12.7"
  }
 },
 "nbformat": 4,
 "nbformat_minor": 2
}
