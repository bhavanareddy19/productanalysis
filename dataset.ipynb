{
 "cells": [
  {
   "cell_type": "code",
   "execution_count": null,
   "metadata": {},
   "outputs": [],
   "source": [
    "import pandas as pd\n",
    "import numpy as np\n",
    "\n",
    "# Define the structure of the organization\n",
    "levels = ['Portfolio', 'Geography', 'Category', 'Brand', 'Segment']\n",
    "units = {\n",
    "    'Portfolio': ['Hair/Body', 'CC/Fragrances'],\n",
    "    'Geography': ['North America', 'Europe', 'Asia', 'South America', 'Africa'],\n",
    "    'Category': ['Hair', 'Body', 'Fragrance', 'Skincare'],\n",
    "    'Brand': ['Brand A', 'Brand B', 'Brand C', 'Brand D', 'Brand E'],\n",
    "    'Segment': ['Shampoo', 'Conditioner', 'Body Wash', 'Perfume', 'Cream', 'Soap', 'Lotion', 'Deodorant']\n",
    "}\n",
    "\n",
    "# Ensure we generate exactly 500 rows\n",
    "desired_rows = 500\n",
    "current_count = 0\n",
    "data = []\n",
    "\n",
    "# While loop to keep generating data until we reach 500 rows\n",
    "while current_count < desired_rows:\n",
    "    for portfolio in units['Portfolio']:\n",
    "        for geography in units['Geography']:\n",
    "            for category in units['Category']:\n",
    "                for brand in units['Brand']:\n",
    "                    for segment in np.random.choice(units['Segment'], size=2, replace=False):  # Randomly pick two segments per brand\n",
    "                        sales = np.random.randint(1000, 10000)\n",
    "                        margin = np.random.randint(10, 60)\n",
    "\n",
    "                        \n",
    "                        # Randomly assign min/max for trend and contribution\n",
    "                        min_trend = np.random.uniform(-0.15, 0)  # Example: between -15% to 0%\n",
    "                        max_trend = np.random.uniform(0.1, 0.3)  # Example: between 10% to 30%\n",
    "                        min_contribution = np.random.uniform(0.05, 0.1)  # Minimum possible contribution\n",
    "                        max_contribution = np.random.uniform(0.2, 0.5)  # Maximum possible contribution\n",
    "                        \n",
    "                        # Append data\n",
    "                        data.append([portfolio, geography, category, brand, segment, sales, margin, min_trend, max_trend, min_contribution, max_contribution])\n",
    "                        current_count += 1\n",
    "                        if current_count >= desired_rows:\n",
    "                            break\n",
    "                    if current_count >= desired_rows:\n",
    "                        break\n",
    "                if current_count >= desired_rows:\n",
    "                    break\n",
    "            if current_count >= desired_rows:\n",
    "                break\n",
    "        if current_count >= desired_rows:\n",
    "            break\n",
    "\n",
    "# Create a DataFrame\n",
    "columns = ['Portfolio', 'Geography', 'Category', 'Brand', 'Segment', 'Sales', 'Margin', 'Min_Trend', 'Max_Trend', 'Min_Contribution', 'Max_Contribution']\n",
    "df = pd.DataFrame(data, columns=columns)\n",
    "\n",
    "# Save the dataset to a CSV file\n",
    "df.to_csv('Acme_Synthetic_Data_final.csv', index=False)\n"
   ]
  },
  {
   "cell_type": "code",
   "execution_count": null,
   "metadata": {},
   "outputs": [],
   "source": []
  }
 ],
 "metadata": {
  "kernelspec": {
   "display_name": "base",
   "language": "python",
   "name": "python3"
  },
  "language_info": {
   "codemirror_mode": {
    "name": "ipython",
    "version": 3
   },
   "file_extension": ".py",
   "mimetype": "text/x-python",
   "name": "python",
   "nbconvert_exporter": "python",
   "pygments_lexer": "ipython3",
   "version": "3.12.7"
  }
 },
 "nbformat": 4,
 "nbformat_minor": 2
}
